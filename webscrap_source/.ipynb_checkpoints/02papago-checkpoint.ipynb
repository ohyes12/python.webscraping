{
 "cells": [
  {
   "cell_type": "code",
   "execution_count": 3,
   "id": "3e5602d7-9b85-44da-80bb-b3af86151ccc",
   "metadata": {},
   "outputs": [
    {
     "name": "stdout",
     "output_type": "stream",
     "text": [
      "{\"message\":{\"@type\":\"response\",\"@service\":\"naverservice.nmt.proxy\",\"@version\":\"1.0.0\",\"result\":{\"srcLangType\":\"en\",\"tarLangType\":\"ko\",\"translatedText\":\"난 널 죽인다.\",\"engineType\":\"PRETRANS\",\"pivot\":null}}}\n"
     ]
    }
   ],
   "source": [
    "import os\n",
    "import sys\n",
    "import urllib.request\n",
    "\n",
    "client_id = \"5mJ6OxksDeNR4fExuKZ5\" # 개발자센터에서 발급받은 Client ID 값\n",
    "client_secret = \"IPWyfwyaZC\" # 개발자센터에서 발급받은 Client Secret 값\n",
    "encText = urllib.parse.quote(\"i kill you\")\n",
    "data = \"source=en&target=ko&text=\" + encText\n",
    "url = \"https://openapi.naver.com/v1/papago/n2mt\"\n",
    "request = urllib.request.Request(url)\n",
    "request.add_header(\"X-Naver-Client-Id\",client_id)\n",
    "request.add_header(\"X-Naver-Client-Secret\",client_secret)\n",
    "response = urllib.request.urlopen(request, data=data.encode(\"utf-8\"))\n",
    "rescode = response.getcode()\n",
    "if(rescode==200):\n",
    "    response_body = response.read()\n",
    "    print(response_body.decode('utf-8'))\n",
    "else:\n",
    "    print(\"Error Code:\" + rescode)"
   ]
  },
  {
   "cell_type": "markdown",
   "id": "cd135d99-d76b-44ad-a18a-fe430134938f",
   "metadata": {},
   "source": [
    "### Requests 를 사용한 papago 번역 API 예제"
   ]
  },
  {
   "cell_type": "code",
   "execution_count": 6,
   "id": "63146349-51c3-4aef-9618-ea3fdebc2138",
   "metadata": {},
   "outputs": [
    {
     "name": "stdout",
     "output_type": "stream",
     "text": [
      "{'source': 'en', 'target': 'ko', 'text': 'i kill you '}\n",
      "200 True\n"
     ]
    }
   ],
   "source": [
    "def translate(source_txt, source_lang, target_lang):\n",
    "    print(source_txt, source_lang, target_lang)\n",
    "    \n",
    "    import requests\n",
    "    client_id = \"ok3n30Sk3T8ZPlW5c0HV\" # 개발자센터에서 발급받은 Client ID 값\n",
    "    client_secret = \"IFlQ3TiiyP\" # 개발자센터에서 발급받은 Client Secret 값\n",
    "    urls = \"https://openapi.naver.com/v1/papago/n2mt\"\n",
    "    #요청 헤더\n",
    "    req_header = {\"X-Naver-Client-Id\":client_id, \"X-Naver-Client-Secret\":client_secret}\n",
    "    #요청 파라미터\n",
    "    req_param = {\"source\":source_lang, \"target\":target_lang, \"text\":source_txt}\n",
    "    print(req_param)\n",
    "    \n",
    "    #POST방식으로 요청을 보내기\n",
    "    res = requests.post(urls, headers=req_header,data=req_param)\n",
    "    print(res.status_code, res.ok)\n",
    "    #if res.status_code == 200:\n",
    "    if res.ok:\n",
    "        print('aaa')\n",
    "        print(type(res.json()))\n",
    "        # print(res.json())\n",
    "        trans_txt = res.json()['message']['result']['translatedText']\n",
    "        print(trans_txt)\n"
   ]
  },
  {
   "cell_type": "code",
   "execution_count": null,
   "id": "d251428d-c1f0-4bb0-88ad-ca7912b309d7",
   "metadata": {},
   "outputs": [],
   "source": []
  }
 ],
 "metadata": {
  "kernelspec": {
   "display_name": "Python 3 (ipykernel)",
   "language": "python",
   "name": "python3"
  },
  "language_info": {
   "codemirror_mode": {
    "name": "ipython",
    "version": 3
   },
   "file_extension": ".py",
   "mimetype": "text/x-python",
   "name": "python",
   "nbconvert_exporter": "python",
   "pygments_lexer": "ipython3",
   "version": "3.9.7"
  }
 },
 "nbformat": 4,
 "nbformat_minor": 5
}
